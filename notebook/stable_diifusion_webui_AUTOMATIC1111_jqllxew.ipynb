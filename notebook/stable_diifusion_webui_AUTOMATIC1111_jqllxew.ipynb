{
  "nbformat": 4,
  "nbformat_minor": 0,
  "metadata": {
    "colab": {
      "provenance": [],
      "authorship_tag": "ABX9TyMVFDZbxvW3yMyM9SP6lvUc",
      "include_colab_link": true
    },
    "kernelspec": {
      "name": "python3",
      "display_name": "Python 3"
    },
    "language_info": {
      "name": "python"
    },
    "accelerator": "GPU",
    "gpuClass": "standard"
  },
  "cells": [
    {
      "cell_type": "markdown",
      "metadata": {
        "id": "view-in-github",
        "colab_type": "text"
      },
      "source": [
        "<a href=\"https://colab.research.google.com/github/jqllxew/ai-chat/blob/master/nb/stable_diifusion_webui_AUTOMATIC1111_jqllxew.ipynb\" target=\"_parent\"><img src=\"https://colab.research.google.com/assets/colab-badge.svg\" alt=\"Open In Colab\"/></a>"
      ]
    },
    {
      "cell_type": "markdown",
      "source": [
        "### 初始化/init"
      ],
      "metadata": {
        "id": "oZ-HYT10T1fH"
      }
    },
    {
      "cell_type": "code",
      "source": [
        "from google.colab import drive\n",
        "import time\n",
        "import os\n",
        "\n",
        "drive.mount('/content/gdrive')\n",
        "if not os.path.exists(\"/content/gdrive/MyDrive/\"):\n",
        "  os.mkdir(\"/content/gdrive/MyDrive/\",mode=0o755)"
      ],
      "metadata": {
        "id": "bCckotXr-AfE"
      },
      "execution_count": null,
      "outputs": []
    },
    {
      "cell_type": "code",
      "source": [
        "from IPython.utils import capture\n",
        "from IPython.display import clear_output\n",
        "from subprocess import getoutput\n",
        "import ipywidgets as widgets\n",
        "repo_base_path = \"/content/gdrive/MyDrive/sd\"\n",
        "repo_git_url = \"https://github.com/jqllxew/stable-diffusion-webui.git\"\n",
        "project_path = repo_base_path+\"/stable-diffusion-webui\"\n",
        "\n",
        "def inf(msg, style, wdth): \n",
        "  inf = widgets.Button(description=msg, disabled=True, button_style=style, layout=widgets.Layout(min_width=wdth))\n",
        "  display(inf)\n",
        "with capture.capture_output() as cap:\n",
        "  if not os.path.exists(repo_base_path):\n",
        "    os.mkdir(repo_base_path,mode=0o755)\n",
        "  if not os.path.exists(project_path):\n",
        "    os.chdir(repo_base_path)\n",
        "    os.system(f\"git clone {repo_git_url}\")\n",
        "  os.chdir(project_path)\n",
        "  os.system(f\"git pull {repo_git_url}\")\n",
        "  !mkdir -p {project_path}/cache/huggingface\n",
        "  !ln -s {project_path}/cache/huggingface /root/.cache/\n",
        "print('\u001b[1;32m')\n",
        "clear_output()\n",
        "inf('\\u2714 Done','success', '50px')\n"
      ],
      "metadata": {
        "id": "TEYXaU0RNyO8"
      },
      "execution_count": null,
      "outputs": []
    },
    {
      "cell_type": "markdown",
      "source": [
        "### 引用库/repositories"
      ],
      "metadata": {
        "id": "YVt2QIKvhGNk"
      }
    },
    {
      "cell_type": "code",
      "source": [
        "print('\u001b[1;32mInstalling requirements...')\n",
        "\n",
        "with capture.capture_output() as cap:\n",
        "  %cd /content/ \n",
        "  !wget -q -i https://raw.githubusercontent.com/TheLastBen/fast-stable-diffusion/main/Dependencies/A1111.txt\n",
        "  !dpkg -i *.deb\n",
        "  if not os.path.exists(f'{repo_base_path}/stablediffusion'):\n",
        "    !tar -C / --zstd -xf sd.tar.zst\n",
        "  !tar -C / --zstd -xf A1111_dep.tar.zst\n",
        "  !rm *.deb | rm *.zst | rm *.txt\n",
        "clear_output()\n",
        "inf('\\u2714 Done','success', '50px')"
      ],
      "metadata": {
        "id": "uOodL5yphKCL"
      },
      "execution_count": null,
      "outputs": []
    },
    {
      "cell_type": "markdown",
      "source": [
        "### 扩展/extensions"
      ],
      "metadata": {
        "id": "gFMknU69f1Nq"
      }
    },
    {
      "cell_type": "code",
      "source": [
        "extensions_path = project_path+\"/extensions\"\n",
        "print('\u001b[1;32mInstalling extensions...')\n",
        "with capture.capture_output() as cap:\n",
        "  if not os.path.exists(extensions_path):\n",
        "    os.mkdir(extensions_path,mode=0o755)\n",
        "  %cd {extensions_path}\n",
        "  if not os.path.exists(extensions_path+\"/stable-diffusion-webui-aesthetic-gradients\"): # 美学优化\n",
        "    !git clone https://github.com/AUTOMATIC1111/stable-diffusion-webui-aesthetic-gradients.git\n",
        "  if not os.path.exists(extensions_path+\"/stable-diffusion-webui-images-browser\"): # 图像浏览\n",
        "    !git clone https://github.com/yfszzx/stable-diffusion-webui-images-browser.git\n",
        "  # if not os.path.exists(extensions_path+\"/stable-diffusion-webui-nsfw-censor\"): # nsfw\n",
        "  #   !git clone https://github.com/jqllxew/stable-diffusion-webui-nsfw-censor.git\n",
        "  if not os.path.exists(extensions_path+\"/a1111-sd-webui-tagcomplete\"):\n",
        "    !git clone https://github.com/DominikDoom/a1111-sd-webui-tagcomplete.git\n",
        "  for sub_dir in os.listdir(extensions_path):\n",
        "    sub_dir_path = os.path.join(extensions_path, sub_dir)\n",
        "    if os.path.isdir(sub_dir_path):\n",
        "      os.chdir(sub_dir_path)\n",
        "      print(f\"{sub_dir_path} git pull\")\n",
        "      os.system(\"git pull\")\n",
        "clear_output()\n",
        "inf('\\u2714 Done','success', '50px')"
      ],
      "metadata": {
        "id": "_zspviwWiNfb"
      },
      "execution_count": null,
      "outputs": []
    },
    {
      "cell_type": "markdown",
      "source": [],
      "metadata": {
        "id": "N36I9Z7ty1VB"
      }
    },
    {
      "cell_type": "markdown",
      "source": [
        "### 模型下载/model download"
      ],
      "metadata": {
        "id": "CcaNmIvUzp4p"
      }
    },
    {
      "cell_type": "code",
      "source": [
        "sd_model_path = project_path+\"/models/Stable-diffusion/\"\n",
        "model_name = \"model\" #@param {type:\"string\"}\n",
        "is_safetensors = False #@param {type:\"boolean\"}\n",
        "model_name += '.safetensors' if is_safetensors else '.ckpt'\n",
        "if not os.path.exists(sd_model_path+model_name):\n",
        "  print('\u001b[1;32mModel download...')\n",
        "  model_download_url = \"https://huggingface.co/advokat/2dn/resolve/main/2DN-pruned-vae.ckpt\" #@param {type:\"string\"}\n",
        "  %cd {sd_model_path}\n",
        "  !wget {model_download_url} -O {model_name}\n",
        "inf('\\u2714 Done','success', '50px')"
      ],
      "metadata": {
        "id": "a4zPKYUJzz1g"
      },
      "execution_count": null,
      "outputs": []
    },
    {
      "cell_type": "markdown",
      "source": [
        "### 运行/run"
      ],
      "metadata": {
        "id": "fLtn37OWy2XB"
      }
    },
    {
      "cell_type": "code",
      "source": [
        "project_path = \"/content/gdrive/MyDrive/sd/stable-diffusion-webui\"\n",
        "with capture.capture_output() as cap:\n",
        "  %cd {project_path}/modules/\n",
        "  !wget -O paths.py https://raw.githubusercontent.com/TheLastBen/fast-stable-diffusion/main/AUTOMATIC1111_files/paths.py\n",
        "  !wget -O extras.py https://raw.githubusercontent.com/AUTOMATIC1111/stable-diffusion-webui/master/modules/extras.py\n",
        "  !wget -O sd_models.py https://raw.githubusercontent.com/AUTOMATIC1111/stable-diffusion-webui/master/modules/sd_models.py\n",
        "  !wget -q -O /usr/local/lib/python3.8/dist-packages/gradio/blocks.py https://raw.githubusercontent.com/TheLastBen/fast-stable-diffusion/main/AUTOMATIC1111_files/blocks.py\n",
        "  %cd {project_path}\n",
        "\n",
        "  !sed -i \"s@os.path.splitext(checkpoint_file)@os.path.splitext(checkpoint_file); map_location='cuda'@\" {project_path}/modules/sd_models.py\n",
        "  !sed -i 's@ui.create_ui().*@ui.create_ui();shared.demo.queue(concurrency_count=999999,status_update_rate=0.1)@' {project_path}/webui.py\n",
        "  !sed -i \"s@map_location='cpu'@map_location='cuda'@\" {project_path}/modules/extras.py\n",
        "\n",
        "%cd {project_path}\n",
        "!python webui.py --share --api --xformers --disable-safe-unpickle \\\n",
        "--enable-insecure-extension-access --no-half-vae --disable-console-progressbars"
      ],
      "metadata": {
        "id": "paBH0qITy9_I"
      },
      "execution_count": null,
      "outputs": []
    }
  ]
}